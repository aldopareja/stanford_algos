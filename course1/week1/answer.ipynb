{
 "cells": [
  {
   "cell_type": "code",
   "execution_count": 4,
   "metadata": {
    "collapsed": true
   },
   "outputs": [],
   "source": [
    "def karatsuba(a,b):\n",
    "\tif len(a)*len(b) == 0:\n",
    "\t\treturn 0\n",
    "\tif len(a)<=2 and len(b)<=2:\n",
    "\t\treturn int(a)*int(b)\n",
    "\tak = len(a)//2\n",
    "\tbk = len(b)//2\n",
    "\ta1 = a[:ak]\n",
    "\tb1 = b[:bk]\n",
    "\ta2 = a[ak:]\n",
    "\tb2 = b[bk:]\n",
    "\tak = len(a)-ak\n",
    "\tbk = len(b)-bk\n",
    "\ta1b1 = karatsuba(a1,b1)\n",
    "\ta1b2 = karatsuba(a1,b2)\n",
    "\tb1a2 = karatsuba(b1,a2)\n",
    "\ta2b2 = karatsuba(a2,b2)\n",
    "\n",
    "\tab = 10**(ak+bk)*a1b1 + 10**ak*a1b2 + 10**bk*b1a2 + a2b2\n",
    "\treturn ab"
   ]
  },
  {
   "cell_type": "code",
   "execution_count": 5,
   "metadata": {},
   "outputs": [
    {
     "data": {
      "text/plain": [
       "8539734222673567065463550869546574495034888535765114961879601127067743044893204848617875072216249073013374895871952806582723184"
      ]
     },
     "execution_count": 5,
     "metadata": {},
     "output_type": "execute_result"
    }
   ],
   "source": [
    "karatsuba('3141592653589793238462643383279502884197169399375105820974944592','2718281828459045235360287471352662497757247093699959574966967627')"
   ]
  }
 ],
 "metadata": {
  "kernelspec": {
   "display_name": "Python 3",
   "language": "python",
   "name": "python3"
  },
  "language_info": {
   "codemirror_mode": {
    "name": "ipython",
    "version": 3
   },
   "file_extension": ".py",
   "mimetype": "text/x-python",
   "name": "python",
   "nbconvert_exporter": "python",
   "pygments_lexer": "ipython3",
   "version": "3.6.1"
  }
 },
 "nbformat": 4,
 "nbformat_minor": 2
}
